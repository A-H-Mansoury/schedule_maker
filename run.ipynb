{
  "nbformat": 4,
  "nbformat_minor": 0,
  "metadata": {
    "colab": {
      "provenance": [],
      "collapsed_sections": []
    },
    "kernelspec": {
      "name": "python3",
      "display_name": "Python 3"
    },
    "language_info": {
      "name": "python"
    }
  },
  "cells": [
    {
      "cell_type": "markdown",
      "source": [
        "# schedule_maker"
      ],
      "metadata": {
        "id": "b77c4CNNTPc7"
      }
    },
    {
      "cell_type": "markdown",
      "source": [
        "<div dir=\"rtl\">\n",
        "\n",
        "*  برای آماده سازی مقدمات سلول زیر را اجرا کنید.\n",
        "*برای اجرا، روی سلول کلیک کرده و سپس \n",
        "shift+enter\n",
        "را فشار دهید.\n",
        "</div>"
      ],
      "metadata": {
        "id": "hQU5LvorNxHy"
      }
    },
    {
      "cell_type": "code",
      "execution_count": 1,
      "metadata": {
        "id": "uxdKg53ODZMT"
      },
      "outputs": [],
      "source": [
        "%%capture\n",
        "!git clone -b colab https://github.com/A-H-Mansoury/schedule_maker.git\n",
        "%cd schedule_maker/\n",
        "!pip install -r requirements.txt\n",
        "is_drive = False"
      ]
    },
    {
      "cell_type": "markdown",
      "source": [
        "<div dir=\"rtl\">\n",
        "\n",
        "*  در صورت تمایل به ذخیره نتایج در گوگل درایو سلول زیر را اجرا کنید و برای مشاهده نتایج،\n",
        "[اینجا](https://drive.google.com/drive/u/0/my-drive)\n",
        "کلیک کنید.\n",
        "*  در صورت عدم اجرا سلول زیر، نتایج تولید شده به صورت خودکار برای شما دانلود خواهند شد.\n",
        "</div>"
      ],
      "metadata": {
        "id": "vBXTGnswGKox"
      }
    },
    {
      "cell_type": "code",
      "source": [
        "from google.colab import drive\n",
        "drive.mount('/content/drive')\n",
        "is_drive = True"
      ],
      "metadata": {
        "colab": {
          "base_uri": "https://localhost:8080/"
        },
        "id": "mn5S7d0DH8Ti",
        "outputId": "ad7ee820-5366-4e43-e821-3a3e2425f98a"
      },
      "execution_count": 2,
      "outputs": [
        {
          "output_type": "stream",
          "name": "stdout",
          "text": [
            "Mounted at /content/drive\n"
          ]
        }
      ]
    },
    {
      "cell_type": "markdown",
      "source": [
        "<div dir=\"rtl\">\n",
        "\n",
        "*   کد درس در رشته زیر وارد کنید.\n",
        "*   بین هر دو کد درس به تعداد دلخواهی فاصله وارد کنید.\n",
        "*   در صورتی کد درس بدون  شماره گروه وارد شود، از همه گروه های درسی موجود در ساخت برنامه ها استفاده خواهد شد و در غیر این صورت، تنها از گروه وارد شده در ساخت برنامه ها استفاده خواهد شد. \n",
        "\n",
        "* مثال\n",
        "</div>\n",
        "\n",
        "\n",
        "```\n",
        "targets = '''\n",
        "  ۱۷۱۲۳۱۵\n",
        "\n",
        "  ۱۷۱۴۳۰۳ ۱۷۳۲۲۰۴_۱\n",
        "\n",
        "  '''\n",
        "```\n",
        "```\n",
        "targets = '''\n",
        "    ۱۷۱۲۳۱۵  \n",
        "    ۱۷۱۴۳۰۳\n",
        "    ۱۷۳۲۲۰۴\n",
        "'''\n",
        "```\n",
        "```\n",
        "targets = '''\n",
        "    ۱۷۱۲۳۱۵ ۱۷۱۴۳۰۳  ۱۷۳۲۲۰۴\n",
        "'''\n",
        "```\n",
        "\n"
      ],
      "metadata": {
        "id": "Ga43pJVYFWAh"
      }
    },
    {
      "cell_type": "code",
      "source": [
        "  targets = '''\n",
        "    ۱۷۱۲۳۱۵  \n",
        "    ۱۷۱۴۳۰۳\n",
        "    ۱۷۳۲۲۰۴\n",
        "  '''"
      ],
      "metadata": {
        "id": "NL863e14IeYC"
      },
      "execution_count": 3,
      "outputs": []
    },
    {
      "cell_type": "markdown",
      "source": [
        "<div dir=\"rtl\">\n",
        "\n",
        "* اسم پوشه خروجی ها برای زمانی که جند بار اجرا می گیرید. اگر اسم پوشه با قبلی تفاوت نداشته باشد، در اجرا پوشه قبلی پاک شده و پوشه جدیدی ساخته خواهد شد.\n",
        "</div>"
      ],
      "metadata": {
        "id": "jnxyjrJSNcp1"
      }
    },
    {
      "cell_type": "code",
      "source": [
        "name = '1'"
      ],
      "metadata": {
        "id": "4Ao-wZimNXlO"
      },
      "execution_count": 4,
      "outputs": []
    },
    {
      "cell_type": "code",
      "source": [
        "!python3 main.py \"$targets\" {name} {is_drive}\n",
        "!zip -q -r \"./{name}.zip\" \"./results_{name}\"\n",
        "if not is_drive:\n",
        "  from google.colab import files\n",
        "  files.download(\"./%s.zip\"%name)"
      ],
      "metadata": {
        "colab": {
          "base_uri": "https://localhost:8080/"
        },
        "id": "ALlElAIKM-XS",
        "outputId": "fe8c5dfe-177e-4e7f-f572-722087e2e224"
      },
      "execution_count": 5,
      "outputs": [
        {
          "output_type": "stream",
          "name": "stdout",
          "text": [
            "Process: 100% 100/100 [00:02<00:00, 41.78it/s]\n",
            "Visualize:   0% 0/100 [00:00<?, ?it/s]\u001b[A\n",
            "Process: 100% 100/100 [00:03<00:00, 29.98it/s]\n",
            "Visualize: 100% 100/100 [00:00<00:00, 128.58it/s]\n"
          ]
        }
      ]
    },
    {
      "cell_type": "code",
      "source": [],
      "metadata": {
        "id": "gQDj4bIaVXIK"
      },
      "execution_count": 5,
      "outputs": []
    }
  ]
}